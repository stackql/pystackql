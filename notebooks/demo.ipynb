{
 "cells": [
  {
   "cell_type": "markdown",
   "metadata": {},
   "source": [
    "# PyStackQL Development Demo\n",
    "\n",
    "This notebook demonstrates how to use the development version of PyStackQL directly from the source code. Any changes you make to the PyStackQL code will be immediately reflected here."
   ]
  },
  {
   "cell_type": "code",
   "execution_count": null,
   "metadata": {},
   "outputs": [],
   "source": [
    "# First, let's check what version of PyStackQL we're using\n",
    "import pystackql\n",
    "print(f\"PyStackQL Version: {pystackql.__version__}\")\n",
    "\n",
    "# Check the location of the package to confirm we're using the development version\n",
    "print(f\"Package Location: {pystackql.__file__}\")"
   ]
  },
  {
   "cell_type": "code",
   "execution_count": null,
   "metadata": {},
   "outputs": [],
   "source": [
    "# Load the magic extension\n",
    "%load_ext pystackql.magic"
   ]
  },
  {
   "cell_type": "markdown",
   "metadata": {},
   "source": [
    "## Basic Query Test\n",
    "\n",
    "Let's run a simple query to test that everything is working:"
   ]
  },
  {
   "cell_type": "code",
   "execution_count": null,
   "metadata": {},
   "outputs": [],
   "source": [
    "%stackql SELECT 42 as answer"
   ]
  },
  {
   "cell_type": "markdown",
   "metadata": {},
   "source": [
    "## CSV Download Test\n",
    "\n",
    "Let's test the CSV download functionality:"
   ]
  },
  {
   "cell_type": "code",
   "execution_count": null,
   "metadata": {},
   "outputs": [],
   "source": [
    "%%stackql --csv-download\n",
    "SELECT \n",
    "    'Python' as language,\n",
    "    'Development' as mode,\n",
    "    'PyStackQL' as package"
   ]
  },
  {
   "cell_type": "markdown",
   "metadata": {},
   "source": [
    "## Test Cloud Provider Functionality\n",
    "\n",
    "If you have credentials configured, you can test actual cloud provider queries:"
   ]
  },
  {
   "cell_type": "code",
   "execution_count": null,
   "metadata": {},
   "outputs": [],
   "source": [
    "# Uncomment and run the appropriate provider query based on your available credentials\n",
    "\n",
    "# AWS Example\n",
    "# %stackql DESCRIBE aws.ec2.instances\n",
    "\n",
    "# GitHub Example\n",
    "# %stackql registry pull github\n",
    "# %stackql SELECT login FROM github.users.followers WHERE username = 'stackql'"
   ]
  },
  {
   "cell_type": "markdown",
   "metadata": {},
   "source": [
    "## Development Tips\n",
    "\n",
    "1. After modifying PyStackQL code, you don't need to reinstall the package - changes are reflected immediately\n",
    "2. You can run tests from the terminal with `pytest tests/`\n",
    "3. If you modify deep core functionality, you may need to restart the kernel\n",
    "4. To debug issues, you can use Python's built-in debugging tools:"
   ]
  },
  {
   "cell_type": "code",
   "execution_count": null,
   "metadata": {},
   "outputs": [],
   "source": [
    "# Example debugging a PyStackQL function\n",
    "from pystackql.core import StackQL\n",
    "\n",
    "# Get instance properties\n",
    "stackql = StackQL()\n",
    "props = stackql.properties()\n",
    "print(props)"
   ]
  }
 ],
 "metadata": {
  "kernelspec": {
   "display_name": "Python (PyStackQL Dev)",
   "language": "python",
   "name": "pystackql-dev"
  },
  "language_info": {
   "codemirror_mode": {
    "name": "ipython",
    "version": 3
   },
   "file_extension": ".py",
   "mimetype": "text/x-python",
   "name": "python",
   "nbconvert_exporter": "python",
   "pygments_lexer": "ipython3",
   "version": "3.10.4"
  }
 },
 "nbformat": 4,
 "nbformat_minor": 4
}